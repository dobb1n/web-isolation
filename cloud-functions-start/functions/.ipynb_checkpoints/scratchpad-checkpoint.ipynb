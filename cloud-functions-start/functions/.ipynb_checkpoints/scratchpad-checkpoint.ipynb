{
 "cells": [
  {
   "cell_type": "code",
   "execution_count": 73,
   "id": "78de8c23-d55e-4ccb-8552-1887d28f1d04",
   "metadata": {},
   "outputs": [],
   "source": [
    "import requests\n",
    "import os\n",
    "import json\n",
    "import datetime\n",
    "import time\n",
    "\n",
    "api_key = \"\"\n",
    "url = \"https://www.virustotal.com/api/v3/urls\"\n",
    "\n",
    "payload = { \"url\": \"www.rifsltd.co.uk\" }\n",
    "headers = {\n",
    "    \"accept\": \"application/json\",\n",
    "    \"x-apikey\": api_key,\n",
    "    \"content-type\": \"application/x-www-form-urlencoded\"\n",
    "}"
   ]
  },
  {
   "cell_type": "code",
   "execution_count": 74,
   "id": "70ddd41b-163c-4b52-a5d8-d8effc6ad74f",
   "metadata": {},
   "outputs": [
    {
     "name": "stdout",
     "output_type": "stream",
     "text": [
      "Scan status : queued\n"
     ]
    }
   ],
   "source": [
    "# first we have to go and get the request for the url \n",
    "response = requests.post(url, data=payload, headers=headers)\n",
    "response_json = json.loads(response.text)\n",
    "\n",
    "# from the response we can get the link to the actual scan\n",
    "scan_response = requests.get(response_json['data']['links']['self'], headers=headers)\n",
    "scan_response_json = json.loads(scan_response.text)\n",
    "dt = datetime.datetime.fromtimestamp(scan_response_json['data']['attributes']['date']).strftime(\"%d/%m/%Y %H:%M:%S\")\n",
    "while scan_response_json['data']['attributes']['status'] != 'completed':\n",
    "    print(f\"Scan status : {scan_response_json['data']['attributes']['status']}\")\n",
    "    time.sleep(30)\n",
    "    scan_response = requests.get(response_json['data']['links']['self'], headers=headers)\n",
    "    scan_response_json = json.loads(scan_response.text)\n",
    "    \n",
    "scan_results = scan_response_json['data']['attributes']['stats']"
   ]
  },
  {
   "cell_type": "code",
   "execution_count": 75,
   "id": "1d5b00e1-c3cb-446a-8a7c-9bdbb0bc8d4c",
   "metadata": {},
   "outputs": [
    {
     "name": "stdout",
     "output_type": "stream",
     "text": [
      "completed\n",
      "03/06/2024 20:36:05: {'malicious': 0, 'suspicious': 0, 'undetected': 27, 'harmless': 68, 'timeout': 0}\n"
     ]
    }
   ],
   "source": [
    "print(scan_response_json['data']['attributes']['status'])\n",
    "print(f\"{dt}: {scan_results}\")"
   ]
  },
  {
   "cell_type": "code",
   "execution_count": 76,
   "id": "0b404a66-0419-4ec6-bfe1-51633c34cda2",
   "metadata": {},
   "outputs": [],
   "source": [
    "def decision_engine(scan_results):\n",
    "    total = scan_results['malicious'] + scan_results['suspicious'] + scan_results['harmless']\n",
    "    bad = scan_results['malicious'] + scan_results['suspicious']\n",
    "    harmless = scan_results['harmless']\n",
    "    percentage = round(harmless / total * 100)\n",
    "    print(percentage)\n",
    "    if percentage >= 5:\n",
    "        print(f\"PASSED : {percentage}% confirmed ok\")\n",
    "    else:\n",
    "        print(f\"FAILED threshold! : {bad} engines report suspicious or malicious. Out of {total}. Refer for manual checking\")"
   ]
  },
  {
   "cell_type": "code",
   "execution_count": 77,
   "id": "9ad07200-3cb2-469f-8661-c25301eaa264",
   "metadata": {},
   "outputs": [
    {
     "name": "stdout",
     "output_type": "stream",
     "text": [
      "100\n",
      "PASSED : 100% confirmed ok\n"
     ]
    }
   ],
   "source": [
    "decision_engine(scan_results)"
   ]
  },
  {
   "cell_type": "code",
   "execution_count": 17,
   "id": "2b7e006f-e62c-4e73-a4dc-6721dee4ad03",
   "metadata": {},
   "outputs": [
    {
     "data": {
      "text/plain": [
       "1717436234"
      ]
     },
     "execution_count": 17,
     "metadata": {},
     "output_type": "execute_result"
    }
   ],
   "source": [
    "scan_response_json['data']['attributes']['date']"
   ]
  },
  {
   "cell_type": "code",
   "execution_count": 22,
   "id": "3d2904de-9dbf-4e89-8fa5-92cc3ef9206b",
   "metadata": {},
   "outputs": [
    {
     "data": {
      "text/plain": [
       "'03/06/2024 18:37:14'"
      ]
     },
     "execution_count": 22,
     "metadata": {},
     "output_type": "execute_result"
    }
   ],
   "source": [
    "dt = datetime.datetime.fromtimestamp(scan_response_json['data']['attributes']['date'])\n",
    "dt.strftime(\"%d/%m/%Y %H:%M:%S\")"
   ]
  },
  {
   "cell_type": "code",
   "execution_count": 23,
   "id": "a44bade4-8cad-45f9-baa4-c14c215c3162",
   "metadata": {},
   "outputs": [
    {
     "data": {
      "text/plain": [
       "{'malicious': 1,\n",
       " 'suspicious': 1,\n",
       " 'undetected': 26,\n",
       " 'harmless': 67,\n",
       " 'timeout': 0}"
      ]
     },
     "execution_count": 23,
     "metadata": {},
     "output_type": "execute_result"
    }
   ],
   "source": [
    "scan_response_json['data']['attributes']['stats']"
   ]
  },
  {
   "cell_type": "code",
   "execution_count": 24,
   "id": "b701ce6d-e623-4319-9dd3-d52dac4c70a0",
   "metadata": {},
   "outputs": [
    {
     "data": {
      "text/plain": [
       "dict"
      ]
     },
     "execution_count": 24,
     "metadata": {},
     "output_type": "execute_result"
    }
   ],
   "source": [
    "type(scan_response_json['data']['attributes']['stats'])"
   ]
  },
  {
   "cell_type": "code",
   "execution_count": null,
   "id": "6c813e91-42ea-4330-b084-0e50b8047c7a",
   "metadata": {},
   "outputs": [],
   "source": []
  }
 ],
 "metadata": {
  "kernelspec": {
   "display_name": "Python 3 (ipykernel)",
   "language": "python",
   "name": "python3"
  },
  "language_info": {
   "codemirror_mode": {
    "name": "ipython",
    "version": 3
   },
   "file_extension": ".py",
   "mimetype": "text/x-python",
   "name": "python",
   "nbconvert_exporter": "python",
   "pygments_lexer": "ipython3",
   "version": "3.11.7"
  }
 },
 "nbformat": 4,
 "nbformat_minor": 5
}
